{
 "cells": [
  {
   "cell_type": "markdown",
   "metadata": {},
   "source": [
    "# Appendix B: Py at Work"
   ]
  },
  {
   "cell_type": "code",
   "execution_count": 3,
   "metadata": {
    "collapsed": true
   },
   "outputs": [],
   "source": [
    "text = '''animal,bites,stitches,hush\n",
    "bear,1,35,300\n",
    "marmoset,1,2,250\n",
    "bear,2,42,500\n",
    "elk,1,30,100\n",
    "weasel,4,7,50\n",
    "duck,2,0,10'''\n",
    "\n",
    "file = open('zoo.csv', 'wt')\n",
    "file.write(text)\n",
    "file.close()"
   ]
  },
  {
   "cell_type": "code",
   "execution_count": 18,
   "metadata": {
    "collapsed": false
   },
   "outputs": [
    {
     "name": "stdout",
     "output_type": "stream",
     "text": [
      "      bear        800\n",
      "  marmoset        250\n",
      "       elk        100\n",
      "    weasel         50\n",
      "      duck         10\n"
     ]
    }
   ],
   "source": [
    "import csv\n",
    "from collections import Counter\n",
    "\n",
    "counts = Counter()\n",
    "with open('zoo.csv', 'rt') as fin:\n",
    "    cin = csv.reader(fin)\n",
    "    for num, row in enumerate(cin):\n",
    "        if num > 0:\n",
    "            counts[row[0]] += int(row[-1])\n",
    "for animal, hush in counts.items():\n",
    "    print(\"%10s %10s\" % (animal, hush))"
   ]
  },
  {
   "cell_type": "code",
   "execution_count": 19,
   "metadata": {
    "collapsed": false
   },
   "outputs": [
    {
     "name": "stderr",
     "output_type": "stream",
     "text": [
      "2017-07-03 09:57:01,897 DEBUG calling aggregate(rows)\n",
      "2017-07-03 09:57:01,900 INFO called aggregate(rows)\n",
      "2017-07-03 09:57:01,902 DEBUG calling pretty_print(records)\n"
     ]
    },
    {
     "name": "stdout",
     "output_type": "stream",
     "text": [
      "+--------+--------+------------+\n",
      "|animal  |hush_sum|record_count|\n",
      "+--------+--------+------------+\n",
      "|marmoset|     250|           1|\n",
      "|weasel  |      50|           1|\n",
      "|elk     |     100|           1|\n",
      "|duck    |      10|           1|\n",
      "|bear    |     800|           2|\n",
      "+--------+--------+------------+\n"
     ]
    },
    {
     "name": "stderr",
     "output_type": "stream",
     "text": [
      "2017-07-03 09:57:01,907 INFO called pretty_print(records)\n"
     ]
    }
   ],
   "source": [
    "import bubbles\n",
    "\n",
    "p = bubbles.Pipeline()\n",
    "p.source(bubbles.data_object('csv_source', 'zoo.csv', infer_fields=True))\n",
    "p.aggregate('animal', 'hush')\n",
    "p.pretty_print()"
   ]
  },
  {
   "cell_type": "code",
   "execution_count": null,
   "metadata": {
    "collapsed": true
   },
   "outputs": [],
   "source": []
  }
 ],
 "metadata": {
  "kernelspec": {
   "display_name": "Python 3",
   "language": "python",
   "name": "python3"
  },
  "language_info": {
   "codemirror_mode": {
    "name": "ipython",
    "version": 3
   },
   "file_extension": ".py",
   "mimetype": "text/x-python",
   "name": "python",
   "nbconvert_exporter": "python",
   "pygments_lexer": "ipython3",
   "version": "3.6.0"
  }
 },
 "nbformat": 4,
 "nbformat_minor": 2
}
