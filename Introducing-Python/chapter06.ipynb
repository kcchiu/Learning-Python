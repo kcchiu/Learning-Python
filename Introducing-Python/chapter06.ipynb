{
 "cells": [
  {
   "cell_type": "markdown",
   "metadata": {},
   "source": [
    "# Chapter 6: Oh Oh: Objects and Classes"
   ]
  },
  {
   "cell_type": "code",
   "execution_count": 1,
   "metadata": {
    "collapsed": true
   },
   "outputs": [],
   "source": [
    "class Person():\n",
    "    def __init__(self, name):\n",
    "        self.name = name"
   ]
  },
  {
   "cell_type": "code",
   "execution_count": 2,
   "metadata": {
    "collapsed": true
   },
   "outputs": [],
   "source": [
    "hunter = Person('Elmur Fudd')"
   ]
  },
  {
   "cell_type": "code",
   "execution_count": 3,
   "metadata": {},
   "outputs": [
    {
     "name": "stdout",
     "output_type": "stream",
     "text": [
      "Elmur Fudd\n"
     ]
    }
   ],
   "source": [
    "print(hunter.name)"
   ]
  },
  {
   "cell_type": "code",
   "execution_count": 7,
   "metadata": {},
   "outputs": [
    {
     "name": "stdout",
     "output_type": "stream",
     "text": [
      "I'm a Car!\n",
      "I'm a Yugo! Much like a Car, but more Yugo-ish.\n",
      "A little help here?\n"
     ]
    }
   ],
   "source": [
    "class Car():\n",
    "    def exclaim(self):\n",
    "        print(\"I'm a Car!\")\n",
    "\n",
    "class Yugo(Car):\n",
    "    def exclaim(self):\n",
    "        print(\"I'm a Yugo! Much like a Car, but more Yugo-ish.\")\n",
    "    def need_a_push(self):\n",
    "        print(\"A little help here?\")\n",
    "    pass\n",
    "\n",
    "give_me_a_car = Car()\n",
    "give_me_a_yugo = Yugo()\n",
    "give_me_a_car.exclaim()\n",
    "give_me_a_yugo.exclaim()\n",
    "give_me_a_yugo.need_a_push()"
   ]
  },
  {
   "cell_type": "code",
   "execution_count": 57,
   "metadata": {},
   "outputs": [
    {
     "name": "stdout",
     "output_type": "stream",
     "text": [
      "Bob Frapples cc\n",
      "bob@frapples.com\n",
      "abc USA\n",
      "2\n",
      "African American\n",
      "100\n"
     ]
    }
   ],
   "source": [
    "class Person():\n",
    "    def __init__(self, namez, adds):\n",
    "        self.name = namez + ' cc'\n",
    "        self.add = adds + ' USA'\n",
    "    def origin(self, color):\n",
    "        if color == 'black':\n",
    "            self.race = 'African American'\n",
    "        else:\n",
    "            self.race = 'Not African American'\n",
    "\n",
    "class Number():\n",
    "    def map(self, idx):\n",
    "        if self.idx % 2 == 1:\n",
    "            self.seat = 11\n",
    "        else:\n",
    "            self.seat = 10\n",
    "        \n",
    "\n",
    "class EmailPerson(Person, Number):\n",
    "    def __init__(self, namex, email, add, idx, skcolor):\n",
    "        super().__init__(namex, add)\n",
    "        super().origin(skcolor)\n",
    "        self.email=email\n",
    "        self.idx = idx\n",
    "        super().map(self.idx)\n",
    "        self.seat = self.seat * 10\n",
    "\n",
    "bob = EmailPerson('Bob Frapples', 'bob@frapples.com', 'abc', 2, 'black')\n",
    "print(bob.name)\n",
    "print(bob.email)\n",
    "print(bob.add)\n",
    "print(bob.idx)\n",
    "print(bob.race)\n",
    "print(bob.seat)"
   ]
  },
  {
   "cell_type": "code",
   "execution_count": 70,
   "metadata": {},
   "outputs": [
    {
     "name": "stdout",
     "output_type": "stream",
     "text": [
      "inside the getter\n"
     ]
    },
    {
     "data": {
      "text/plain": [
       "'Howard'"
      ]
     },
     "execution_count": 70,
     "metadata": {},
     "output_type": "execute_result"
    }
   ],
   "source": [
    "class Duck():\n",
    "    def __init__(self, input_name):\n",
    "        self.hidden_name = input_name\n",
    "    def get_name(self):\n",
    "        print('inside the getter')\n",
    "        return self.hidden_name\n",
    "    def set_name(self, input_name):\n",
    "        print('inside the setter')\n",
    "        self.hidden_name = input_name\n",
    "    name = property(get_name, set_name)\n",
    "\n",
    "fowl = Duck('Howard')\n",
    "fowl.name"
   ]
  },
  {
   "cell_type": "code",
   "execution_count": 71,
   "metadata": {},
   "outputs": [
    {
     "name": "stdout",
     "output_type": "stream",
     "text": [
      "inside the setter\n"
     ]
    }
   ],
   "source": [
    "fowl.name = 'Daffy'"
   ]
  },
  {
   "cell_type": "code",
   "execution_count": 72,
   "metadata": {},
   "outputs": [
    {
     "name": "stdout",
     "output_type": "stream",
     "text": [
      "inside the getter\n"
     ]
    },
    {
     "data": {
      "text/plain": [
       "'Daffy'"
      ]
     },
     "execution_count": 72,
     "metadata": {},
     "output_type": "execute_result"
    }
   ],
   "source": [
    "fowl.name"
   ]
  },
  {
   "cell_type": "code",
   "execution_count": 77,
   "metadata": {},
   "outputs": [],
   "source": [
    "class Duck():\n",
    "    def __init__(self, input_name):\n",
    "        self.hidden_name = input_name\n",
    "    @property\n",
    "    def names(self):\n",
    "        print('inside the getter')\n",
    "        return self.hidden_name\n",
    "    @names.setter\n",
    "    def names(self, input_name):\n",
    "        print('inside the setter')\n",
    "        self.hidden_name = input_name"
   ]
  },
  {
   "cell_type": "code",
   "execution_count": 74,
   "metadata": {},
   "outputs": [
    {
     "name": "stdout",
     "output_type": "stream",
     "text": [
      "inside the getter\n"
     ]
    },
    {
     "data": {
      "text/plain": [
       "'Howard'"
      ]
     },
     "execution_count": 74,
     "metadata": {},
     "output_type": "execute_result"
    }
   ],
   "source": [
    "fowl = Duck('Howard')\n",
    "fowl.name"
   ]
  },
  {
   "cell_type": "code",
   "execution_count": 75,
   "metadata": {},
   "outputs": [
    {
     "name": "stdout",
     "output_type": "stream",
     "text": [
      "inside the setter\n",
      "inside the getter\n"
     ]
    },
    {
     "data": {
      "text/plain": [
       "'Daffy'"
      ]
     },
     "execution_count": 75,
     "metadata": {},
     "output_type": "execute_result"
    }
   ],
   "source": [
    "fowl.name = 'Daffy'\n",
    "fowl.name"
   ]
  },
  {
   "cell_type": "code",
   "execution_count": 78,
   "metadata": {
    "collapsed": true
   },
   "outputs": [],
   "source": [
    "class Circle():\n",
    "    def __init__(self, radius):\n",
    "        self.radius = radius\n",
    "    @property\n",
    "    def diameter(self):\n",
    "        return 2 * self.radius"
   ]
  },
  {
   "cell_type": "code",
   "execution_count": 91,
   "metadata": {},
   "outputs": [
    {
     "name": "stdout",
     "output_type": "stream",
     "text": [
      "5 10\n"
     ]
    }
   ],
   "source": [
    "c = Circle(5)\n",
    "print(c.radius, c.diameter)"
   ]
  },
  {
   "cell_type": "code",
   "execution_count": 92,
   "metadata": {},
   "outputs": [
    {
     "name": "stdout",
     "output_type": "stream",
     "text": [
      "7 14\n"
     ]
    }
   ],
   "source": [
    "c.radius = 7\n",
    "print(c.radius, c.diameter)"
   ]
  },
  {
   "cell_type": "code",
   "execution_count": 117,
   "metadata": {
    "collapsed": true
   },
   "outputs": [],
   "source": [
    "class Duck():\n",
    "    def __init__(self, input_name):\n",
    "        self.__names = input_name\n",
    "    @property\n",
    "    def name(self):\n",
    "        print('inside the getter')\n",
    "        return self.__names\n",
    "    @name.setter\n",
    "    def name(self, input_name):\n",
    "        print('inside the setter')\n",
    "        self.__name = input_name"
   ]
  },
  {
   "cell_type": "code",
   "execution_count": 118,
   "metadata": {},
   "outputs": [
    {
     "name": "stdout",
     "output_type": "stream",
     "text": [
      "inside the getter\n"
     ]
    },
    {
     "data": {
      "text/plain": [
       "'Howard'"
      ]
     },
     "execution_count": 118,
     "metadata": {},
     "output_type": "execute_result"
    }
   ],
   "source": [
    "fowl = Duck('Howard')\n",
    "fowl.name"
   ]
  },
  {
   "cell_type": "code",
   "execution_count": 119,
   "metadata": {},
   "outputs": [
    {
     "name": "stdout",
     "output_type": "stream",
     "text": [
      "inside the setter\n"
     ]
    }
   ],
   "source": [
    "fowl.name = 'Donald'"
   ]
  },
  {
   "cell_type": "code",
   "execution_count": 120,
   "metadata": {},
   "outputs": [
    {
     "name": "stdout",
     "output_type": "stream",
     "text": [
      "inside the getter\n"
     ]
    },
    {
     "data": {
      "text/plain": [
       "'Howard'"
      ]
     },
     "execution_count": 120,
     "metadata": {},
     "output_type": "execute_result"
    }
   ],
   "source": [
    "fowl.name"
   ]
  },
  {
   "cell_type": "code",
   "execution_count": 121,
   "metadata": {},
   "outputs": [
    {
     "ename": "AttributeError",
     "evalue": "'Duck' object has no attribute '__names'",
     "output_type": "error",
     "traceback": [
      "\u001b[1;31m---------------------------------------------------------------------------\u001b[0m",
      "\u001b[1;31mAttributeError\u001b[0m                            Traceback (most recent call last)",
      "\u001b[1;32m<ipython-input-121-b3dfe5e993ce>\u001b[0m in \u001b[0;36m<module>\u001b[1;34m()\u001b[0m\n\u001b[1;32m----> 1\u001b[1;33m \u001b[0mfowl\u001b[0m\u001b[1;33m.\u001b[0m\u001b[0m__names\u001b[0m\u001b[1;33m\u001b[0m\u001b[0m\n\u001b[0m",
      "\u001b[1;31mAttributeError\u001b[0m: 'Duck' object has no attribute '__names'"
     ]
    }
   ],
   "source": [
    "fowl.__names"
   ]
  },
  {
   "cell_type": "code",
   "execution_count": 123,
   "metadata": {},
   "outputs": [
    {
     "data": {
      "text/plain": [
       "'Howard'"
      ]
     },
     "execution_count": 123,
     "metadata": {},
     "output_type": "execute_result"
    }
   ],
   "source": [
    "fowl._Duck__names"
   ]
  },
  {
   "cell_type": "code",
   "execution_count": 124,
   "metadata": {
    "collapsed": true
   },
   "outputs": [],
   "source": [
    "class A():\n",
    "    count = 0\n",
    "    def __init__(self):\n",
    "        A.count +=1\n",
    "    def exclaim(self):\n",
    "        print(\"I'm an A!\")\n",
    "    @classmethod\n",
    "    def kids(cls):\n",
    "        print(\"A has\", A.count, \"little objects.\")"
   ]
  },
  {
   "cell_type": "code",
   "execution_count": 125,
   "metadata": {},
   "outputs": [
    {
     "name": "stdout",
     "output_type": "stream",
     "text": [
      "A has 3 little objects.\n"
     ]
    }
   ],
   "source": [
    "easy_a = A()\n",
    "breezy_a = A()\n",
    "wheezy_a = A()\n",
    "A.kids()"
   ]
  },
  {
   "cell_type": "code",
   "execution_count": 126,
   "metadata": {},
   "outputs": [
    {
     "data": {
      "text/plain": [
       "3"
      ]
     },
     "execution_count": 126,
     "metadata": {},
     "output_type": "execute_result"
    }
   ],
   "source": [
    "A.count"
   ]
  },
  {
   "cell_type": "code",
   "execution_count": 127,
   "metadata": {
    "collapsed": true
   },
   "outputs": [],
   "source": [
    "class CoyoteWeapon():\n",
    "    @staticmethod\n",
    "    def commercial():\n",
    "        print(\"This is the commercial\")"
   ]
  },
  {
   "cell_type": "code",
   "execution_count": 129,
   "metadata": {},
   "outputs": [
    {
     "name": "stdout",
     "output_type": "stream",
     "text": [
      "This is the commercial\n"
     ]
    }
   ],
   "source": [
    "CoyoteWeapon.commercial()"
   ]
  },
  {
   "cell_type": "code",
   "execution_count": 130,
   "metadata": {
    "collapsed": true
   },
   "outputs": [],
   "source": [
    "class Quote():\n",
    "    def __init__(self, person, words):\n",
    "        self.person = person\n",
    "        self.words = words\n",
    "    def who(self):\n",
    "        return self.person\n",
    "    def says(self):\n",
    "        return self.words + '.'\n",
    "    \n",
    "class QuestionQuote(Quote):\n",
    "    def says(self):\n",
    "        return self.words + '?'\n",
    "    \n",
    "class ExclamationQuote(Quote):\n",
    "    def says(self):\n",
    "        return self.words + '!'"
   ]
  },
  {
   "cell_type": "code",
   "execution_count": 132,
   "metadata": {},
   "outputs": [
    {
     "name": "stdout",
     "output_type": "stream",
     "text": [
      "Elmer Fudd says: I'm hunting rabbits.\n"
     ]
    }
   ],
   "source": [
    "hunter = Quote('Elmer Fudd', \"I'm hunting rabbits\")\n",
    "print(hunter.who(), 'says:', hunter.says())"
   ]
  },
  {
   "cell_type": "code",
   "execution_count": 134,
   "metadata": {},
   "outputs": [
    {
     "name": "stdout",
     "output_type": "stream",
     "text": [
      "Bugs Bunny says: What's up, doc?\n"
     ]
    }
   ],
   "source": [
    "hunter1 = QuestionQuote('Bugs Bunny', \"What's up, doc\")\n",
    "print(hunter1.who(), 'says:', hunter1.says())"
   ]
  },
  {
   "cell_type": "code",
   "execution_count": 135,
   "metadata": {},
   "outputs": [
    {
     "name": "stdout",
     "output_type": "stream",
     "text": [
      "Daffy Duck says: It's rabbit season!\n"
     ]
    }
   ],
   "source": [
    "hunter2 = ExclamationQuote('Daffy Duck', \"It's rabbit season\")\n",
    "print(hunter2.who(), 'says:', hunter2.says())"
   ]
  },
  {
   "cell_type": "code",
   "execution_count": 136,
   "metadata": {
    "collapsed": true
   },
   "outputs": [],
   "source": [
    "class BabblingBrook():\n",
    "    def who(self):\n",
    "        return 'Brook'\n",
    "    def says(self):\n",
    "        return 'Babble'\n",
    "brook = BabblingBrook()"
   ]
  },
  {
   "cell_type": "code",
   "execution_count": 139,
   "metadata": {},
   "outputs": [
    {
     "name": "stdout",
     "output_type": "stream",
     "text": [
      "Brook says Babble\n",
      "Elmer Fudd says I'm hunting rabbits.\n",
      "Bugs Bunny says What's up, doc?\n",
      "Daffy Duck says It's rabbit season!\n"
     ]
    }
   ],
   "source": [
    "def who_says(obj):\n",
    "    print(obj.who(), 'says', obj.says())\n",
    "\n",
    "who_says(brook)\n",
    "who_says(hunter)\n",
    "who_says(hunter1)\n",
    "who_says(hunter2)"
   ]
  },
  {
   "cell_type": "code",
   "execution_count": 155,
   "metadata": {
    "collapsed": true
   },
   "outputs": [],
   "source": [
    "class Word():\n",
    "    def __init__(self, text):\n",
    "        self.text = text\n",
    "    def equals(self, word2):\n",
    "        return self.text.lower() == word2.text.lower()"
   ]
  },
  {
   "cell_type": "code",
   "execution_count": 156,
   "metadata": {},
   "outputs": [
    {
     "data": {
      "text/plain": [
       "True"
      ]
     },
     "execution_count": 156,
     "metadata": {},
     "output_type": "execute_result"
    }
   ],
   "source": [
    "first = Word('ha')\n",
    "second = Word('HA')\n",
    "third = Word('eh')\n",
    "\n",
    "first.equals(second)\n",
    "#first.equals(third)"
   ]
  },
  {
   "cell_type": "code",
   "execution_count": 157,
   "metadata": {
    "collapsed": true
   },
   "outputs": [],
   "source": [
    "class Word():\n",
    "    def __init__(self, text):\n",
    "        self.text = text\n",
    "    def __eq__(self, word2):\n",
    "        return self.text.lower() == word2.text.lower()"
   ]
  },
  {
   "cell_type": "code",
   "execution_count": 160,
   "metadata": {},
   "outputs": [
    {
     "data": {
      "text/plain": [
       "True"
      ]
     },
     "execution_count": 160,
     "metadata": {},
     "output_type": "execute_result"
    }
   ],
   "source": [
    "first = Word('ha')\n",
    "second = Word('HA')\n",
    "third = Word('eh')\n",
    "\n",
    "first == second"
   ]
  },
  {
   "cell_type": "code",
   "execution_count": 169,
   "metadata": {
    "collapsed": true
   },
   "outputs": [],
   "source": [
    "class Word():\n",
    "    def __init__(self, text):\n",
    "        self.text = text\n",
    "    def __eq__(self, word2):\n",
    "        return self.text.lower() == word2.text.lower()\n",
    "    def __str__(self):\n",
    "        return self.text\n",
    "    def __repr__(self):\n",
    "        return self.text"
   ]
  },
  {
   "cell_type": "code",
   "execution_count": 170,
   "metadata": {},
   "outputs": [
    {
     "name": "stdout",
     "output_type": "stream",
     "text": [
      "Ha\n"
     ]
    }
   ],
   "source": [
    "first = Word('Ha')\n",
    "print(first)"
   ]
  },
  {
   "cell_type": "code",
   "execution_count": 171,
   "metadata": {},
   "outputs": [
    {
     "data": {
      "text/plain": [
       "Ha"
      ]
     },
     "execution_count": 171,
     "metadata": {},
     "output_type": "execute_result"
    }
   ],
   "source": [
    "first"
   ]
  },
  {
   "cell_type": "markdown",
   "metadata": {},
   "source": [
    "### 6.1"
   ]
  },
  {
   "cell_type": "code",
   "execution_count": 173,
   "metadata": {},
   "outputs": [
    {
     "name": "stdout",
     "output_type": "stream",
     "text": [
      "<__main__.Thing object at 0x00000000062F3F28>\n",
      "<__main__.Thing object at 0x00000000062F3F60>\n"
     ]
    }
   ],
   "source": [
    "class Thing():\n",
    "    pass\n",
    "\n",
    "print(Thing())\n",
    "example = Thing()\n",
    "print(example)"
   ]
  },
  {
   "cell_type": "markdown",
   "metadata": {},
   "source": [
    "### 6.2"
   ]
  },
  {
   "cell_type": "code",
   "execution_count": 179,
   "metadata": {},
   "outputs": [
    {
     "name": "stdout",
     "output_type": "stream",
     "text": [
      "abc\n"
     ]
    }
   ],
   "source": [
    "class Thing2():\n",
    "    letters = 'abc'\n",
    "\n",
    "print(Thing2.letters)"
   ]
  },
  {
   "cell_type": "markdown",
   "metadata": {},
   "source": [
    "### 6.3"
   ]
  },
  {
   "cell_type": "code",
   "execution_count": 182,
   "metadata": {},
   "outputs": [
    {
     "name": "stdout",
     "output_type": "stream",
     "text": [
      "xyz\n"
     ]
    }
   ],
   "source": [
    "class Thing3():\n",
    "    def __init__(self):\n",
    "        self.letters = 'xyz'\n",
    "        \n",
    "obj = Thing3()\n",
    "print(obj.letters)"
   ]
  },
  {
   "cell_type": "markdown",
   "metadata": {},
   "source": [
    "### 6.4"
   ]
  },
  {
   "cell_type": "code",
   "execution_count": 183,
   "metadata": {
    "collapsed": true
   },
   "outputs": [],
   "source": [
    "class Element():\n",
    "    def __init__(self, name, symbol, number):\n",
    "        self.name = name\n",
    "        self.symbol = symbol\n",
    "        self.number = number\n",
    "\n",
    "obj = Element('Hydrogen', 'H', 1)"
   ]
  },
  {
   "cell_type": "markdown",
   "metadata": {},
   "source": [
    "### 6.5"
   ]
  },
  {
   "cell_type": "code",
   "execution_count": 197,
   "metadata": {},
   "outputs": [
    {
     "name": "stdout",
     "output_type": "stream",
     "text": [
      "Hydrogen\n",
      "H\n",
      "1\n"
     ]
    }
   ],
   "source": [
    "dict = {'name': 'Hydrogen',\n",
    "        'symbol': 'H',\n",
    "        'number': '1'}\n",
    "\n",
    "hydrogen = Element(**dict)\n",
    "print(hydrogen.name)\n",
    "print(hydrogen.symbol)\n",
    "print(hydrogen.number)"
   ]
  },
  {
   "cell_type": "markdown",
   "metadata": {},
   "source": [
    "### 6.6"
   ]
  },
  {
   "cell_type": "code",
   "execution_count": 198,
   "metadata": {},
   "outputs": [
    {
     "name": "stdout",
     "output_type": "stream",
     "text": [
      "Hydrogen H 1\n"
     ]
    }
   ],
   "source": [
    "class Element():\n",
    "    def __init__(self, name, symbol, number):\n",
    "        self.name = name\n",
    "        self.symbol = symbol\n",
    "        self.number = number\n",
    "    def dump(self):\n",
    "        print(self.name, self.symbol, self.number)\n",
    "        \n",
    "hydrogen = Element(**dict)\n",
    "hydrogen.dump()"
   ]
  },
  {
   "cell_type": "markdown",
   "metadata": {},
   "source": [
    "### 6.7"
   ]
  },
  {
   "cell_type": "code",
   "execution_count": 199,
   "metadata": {},
   "outputs": [
    {
     "name": "stdout",
     "output_type": "stream",
     "text": [
      "<__main__.Element object at 0x00000000063D2B70>\n"
     ]
    }
   ],
   "source": [
    "print(hydrogen)"
   ]
  },
  {
   "cell_type": "code",
   "execution_count": 201,
   "metadata": {},
   "outputs": [
    {
     "name": "stdout",
     "output_type": "stream",
     "text": [
      "Hydrogen H 1\n"
     ]
    }
   ],
   "source": [
    "class Element():\n",
    "    def __init__(self, name, symbol, number):\n",
    "        self.name = name\n",
    "        self.symbol = symbol\n",
    "        self.number = number\n",
    "    def __str__(self):\n",
    "        return(self.name + ' ' + self.symbol + ' ' + self.number)\n",
    "        \n",
    "hydrogen = Element(**dict)\n",
    "print(hydrogen)"
   ]
  },
  {
   "cell_type": "markdown",
   "metadata": {},
   "source": [
    "### 6.8"
   ]
  },
  {
   "cell_type": "code",
   "execution_count": 207,
   "metadata": {},
   "outputs": [],
   "source": [
    "class Element():\n",
    "    def __init__(self, name, symbol, number):\n",
    "        self.__name = name\n",
    "        self.__symbol = symbol\n",
    "        self.__number = number\n",
    "    @property    \n",
    "    def name(self):\n",
    "        return self.__name\n",
    "    @property    \n",
    "    def symbol(self):\n",
    "        return self.__symbol\n",
    "    @property    \n",
    "    def number(self):\n",
    "        return self.__number\n",
    "    def __str__(self):\n",
    "        return(self.name + ' ' + self.symbol + ' ' + self.number)"
   ]
  },
  {
   "cell_type": "code",
   "execution_count": 210,
   "metadata": {},
   "outputs": [
    {
     "name": "stdout",
     "output_type": "stream",
     "text": [
      "Hydrogen\n",
      "H\n",
      "1\n"
     ]
    }
   ],
   "source": [
    "hydrogen = Element(**dict)\n",
    "print(hydrogen.name)\n",
    "print(hydrogen.symbol)\n",
    "print(hydrogen.number)"
   ]
  },
  {
   "cell_type": "markdown",
   "metadata": {},
   "source": [
    "### 6.9"
   ]
  },
  {
   "cell_type": "code",
   "execution_count": 215,
   "metadata": {},
   "outputs": [
    {
     "name": "stdout",
     "output_type": "stream",
     "text": [
      "berries\n",
      "clover\n",
      "campers\n"
     ]
    }
   ],
   "source": [
    "class Bear():\n",
    "    def eats(self):\n",
    "        return 'berries'\n",
    "    \n",
    "class Rabbit():\n",
    "    def eats(self):\n",
    "        return 'clover'\n",
    "    \n",
    "class Octothorpe():\n",
    "    def eats(self):\n",
    "        return 'campers'\n",
    "\n",
    "bear = Bear()\n",
    "rabbit = Rabbit()\n",
    "octo = Octothorpe()\n",
    "print(bear.eats())\n",
    "print(rabbit.eats())\n",
    "print(octo.eats())"
   ]
  },
  {
   "cell_type": "markdown",
   "metadata": {},
   "source": [
    "### 6.10"
   ]
  },
  {
   "cell_type": "code",
   "execution_count": 226,
   "metadata": {},
   "outputs": [],
   "source": [
    "class Laser():\n",
    "    def does(self):\n",
    "        return 'disintegrate'\n",
    "    \n",
    "class Claw():\n",
    "    def does(self):\n",
    "        return 'crush'\n",
    "    \n",
    "class Smartphone():\n",
    "    def does(self):\n",
    "        return 'ring'\n",
    "    \n",
    "class Robot():\n",
    "    laser = Laser()\n",
    "    claw = Claw()\n",
    "    smartphone = Smartphone()\n",
    "    \n",
    "    def does(self):\n",
    "        print(self.laser.does()+'\\n'+self.claw.does()+'\\n'+self.smartphone.does())"
   ]
  },
  {
   "cell_type": "code",
   "execution_count": 227,
   "metadata": {},
   "outputs": [
    {
     "name": "stdout",
     "output_type": "stream",
     "text": [
      "disintegrate\n",
      "crush\n",
      "ring\n"
     ]
    }
   ],
   "source": [
    "robot = Robot()\n",
    "robot.does()"
   ]
  }
 ],
 "metadata": {
  "kernelspec": {
   "display_name": "Python 3",
   "language": "python",
   "name": "python3"
  },
  "language_info": {
   "codemirror_mode": {
    "name": "ipython",
    "version": 3
   },
   "file_extension": ".py",
   "mimetype": "text/x-python",
   "name": "python",
   "nbconvert_exporter": "python",
   "pygments_lexer": "ipython3",
   "version": "3.6.1"
  }
 },
 "nbformat": 4,
 "nbformat_minor": 2
}
