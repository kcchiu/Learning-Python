{
 "cells": [
  {
   "cell_type": "markdown",
   "metadata": {},
   "source": [
    "# EEG Eye State"
   ]
  },
  {
   "cell_type": "markdown",
   "metadata": {},
   "source": [
    "http://archive.ics.uci.edu/ml/datasets/EEG+Eye+State"
   ]
  },
  {
   "cell_type": "code",
   "execution_count": 59,
   "metadata": {},
   "outputs": [],
   "source": [
    "import pandas as pd\n",
    "import numpy as np\n",
    "import matplotlib.pyplot as plt\n",
    "from sklearn.cross_validation import train_test_split\n",
    "from sklearn.preprocessing import OneHotEncoder\n",
    "from sklearn.preprocessing import StandardScaler\n",
    "from sklearn.preprocessing import Imputer\n",
    "from sklearn.metrics import accuracy_score\n",
    "import seaborn as sns"
   ]
  },
  {
   "cell_type": "markdown",
   "metadata": {},
   "source": [
    "## Load Data"
   ]
  },
  {
   "cell_type": "code",
   "execution_count": 60,
   "metadata": {},
   "outputs": [
    {
     "data": {
      "text/plain": [
       "(14980, 15)"
      ]
     },
     "execution_count": 60,
     "metadata": {},
     "output_type": "execute_result"
    }
   ],
   "source": [
    "headers = [\"AF3\", \"F7\", \"F3\", \"FC5\", \"T7\", \"P7\", \"O1\", \"O2\", \"P8\", \"T8\", \"FC6\", \"F4\", \"F8\", \"AF4\", \"EYE\"]\n",
    "\n",
    "df = pd.read_csv('data/EEG_Eye_State.csv', names=headers)\n",
    "#df.head()\n",
    "df.shape"
   ]
  },
  {
   "cell_type": "markdown",
   "metadata": {},
   "source": [
    "## Data Preprocessing"
   ]
  },
  {
   "cell_type": "markdown",
   "metadata": {},
   "source": [
    "### Clean AF3 data that is too large or too small"
   ]
  },
  {
   "cell_type": "markdown",
   "metadata": {},
   "source": [
    "#### Set the abnormal values to NaN"
   ]
  },
  {
   "cell_type": "code",
   "execution_count": 61,
   "metadata": {},
   "outputs": [],
   "source": [
    "for k, v in enumerate(df['AF3']):\n",
    "    if v < 4000 or v > 5000:\n",
    "        df.set_value(k, 'AF3', 'NaN')"
   ]
  },
  {
   "cell_type": "code",
   "execution_count": 62,
   "metadata": {
    "collapsed": true
   },
   "outputs": [],
   "source": [
    "for k, v in enumerate(df['F7']):\n",
    "    if v < 3850 or v > 4200:\n",
    "        df.set_value(k, 'F7', 'NaN')"
   ]
  },
  {
   "cell_type": "code",
   "execution_count": 63,
   "metadata": {},
   "outputs": [],
   "source": [
    "for k, v in enumerate(df['F3']):\n",
    "    if v < 4000 or v > 4500:\n",
    "        df.set_value(k, 'F3', 'NaN')"
   ]
  },
  {
   "cell_type": "code",
   "execution_count": 64,
   "metadata": {
    "collapsed": true
   },
   "outputs": [],
   "source": [
    "for k, v in enumerate(df['FC5']):\n",
    "    if v < 4000 or v > 4500:\n",
    "        df.set_value(k, 'FC5', 'NaN')"
   ]
  },
  {
   "cell_type": "code",
   "execution_count": 65,
   "metadata": {
    "collapsed": true
   },
   "outputs": [],
   "source": [
    "for k, v in enumerate(df['T7']):\n",
    "    if v < 4000 or v > 5000:\n",
    "        df.set_value(k, 'T7', 'NaN')"
   ]
  },
  {
   "cell_type": "code",
   "execution_count": 66,
   "metadata": {
    "collapsed": true
   },
   "outputs": [],
   "source": [
    "for k, v in enumerate(df['P7']):\n",
    "    if v < 4500 or v > 4800:\n",
    "        df.set_value(k, 'P7', 'NaN')"
   ]
  },
  {
   "cell_type": "code",
   "execution_count": 67,
   "metadata": {
    "collapsed": true
   },
   "outputs": [],
   "source": [
    "for k, v in enumerate(df['O1']):\n",
    "    if v < 4000 or v > 4200:\n",
    "        df.set_value(k, 'O1', 'NaN')"
   ]
  },
  {
   "cell_type": "code",
   "execution_count": 68,
   "metadata": {
    "collapsed": true
   },
   "outputs": [],
   "source": [
    "for k, v in enumerate(df['O2']):\n",
    "    if v < 4500 or v > 4750:\n",
    "        df.set_value(k, 'O2', 'NaN')"
   ]
  },
  {
   "cell_type": "code",
   "execution_count": 69,
   "metadata": {
    "collapsed": true
   },
   "outputs": [],
   "source": [
    "for k, v in enumerate(df['P8']):\n",
    "    if v < 4000 or v > 4400:\n",
    "        df.set_value(k, 'P8', 'NaN')"
   ]
  },
  {
   "cell_type": "code",
   "execution_count": 70,
   "metadata": {
    "collapsed": true
   },
   "outputs": [],
   "source": [
    "for k, v in enumerate(df['T8']):\n",
    "    if v < 4000 or v > 4400:\n",
    "        df.set_value(k, 'T8', 'NaN')"
   ]
  },
  {
   "cell_type": "code",
   "execution_count": 71,
   "metadata": {
    "collapsed": true
   },
   "outputs": [],
   "source": [
    "for k, v in enumerate(df['FC6']):\n",
    "    if v < 4000 or v > 4400:\n",
    "        df.set_value(k, 'FC6', 'NaN')"
   ]
  },
  {
   "cell_type": "code",
   "execution_count": 72,
   "metadata": {
    "collapsed": true
   },
   "outputs": [],
   "source": [
    "for k, v in enumerate(df['F4']):\n",
    "    if v < 4000 or v > 4400:\n",
    "        df.set_value(k, 'F4', 'NaN')"
   ]
  },
  {
   "cell_type": "code",
   "execution_count": 73,
   "metadata": {
    "collapsed": true
   },
   "outputs": [],
   "source": [
    "for k, v in enumerate(df['F8']):\n",
    "    if v < 4000 or v > 5000:\n",
    "        df.set_value(k, 'F8', 'NaN')"
   ]
  },
  {
   "cell_type": "code",
   "execution_count": 74,
   "metadata": {
    "collapsed": true
   },
   "outputs": [],
   "source": [
    "for k, v in enumerate(df['AF4']):\n",
    "    if v < 4000 or v > 5000:\n",
    "        df.set_value(k, 'AF4', 'NaN')"
   ]
  },
  {
   "cell_type": "markdown",
   "metadata": {},
   "source": [
    "#### Find all NaNs in the df and impute them with mean"
   ]
  },
  {
   "cell_type": "code",
   "execution_count": 75,
   "metadata": {},
   "outputs": [],
   "source": [
    "ip = Imputer(missing_values='NaN', strategy='mean', axis=0)\n",
    "X = ip.fit_transform(df)"
   ]
  },
  {
   "cell_type": "markdown",
   "metadata": {},
   "source": [
    "#### The Imputer returns a np array, so we have to transform it to a pd df"
   ]
  },
  {
   "cell_type": "code",
   "execution_count": 76,
   "metadata": {},
   "outputs": [],
   "source": [
    "df = pd.DataFrame(data=X, columns=headers)"
   ]
  },
  {
   "cell_type": "markdown",
   "metadata": {},
   "source": [
    "#### Plot to check with the abnormal value removal result"
   ]
  },
  {
   "cell_type": "code",
   "execution_count": 77,
   "metadata": {},
   "outputs": [
    {
     "data": {
      "image/png": "[encoded data removed]",
      "text/plain": [
       "<matplotlib.figure.Figure at 0x11150e080>"
      ]
     },
     "metadata": {},
     "output_type": "display_data"
    }
   ],
   "source": [
    "plt.scatter(np.arange(len(df['AF3'])),df['AF3'])\n",
    "plt.show()"
   ]
  },
  {
   "cell_type": "markdown",
   "metadata": {},
   "source": [
    "### Standard Scaler to all columns"
   ]
  },
  {
   "cell_type": "markdown",
   "metadata": {},
   "source": [
    "#### Remove the EYE column first, it does not need to be standardized"
   ]
  },
  {
   "cell_type": "code",
   "execution_count": 78,
   "metadata": {},
   "outputs": [],
   "source": [
    "temp = df['EYE']\n",
    "del df['EYE']"
   ]
  },
  {
   "cell_type": "markdown",
   "metadata": {},
   "source": [
    "### Merge the EYE column in after other columns been standardized"
   ]
  },
  {
   "cell_type": "code",
   "execution_count": 79,
   "metadata": {},
   "outputs": [],
   "source": [
    "sc = StandardScaler()\n",
    "df[df.columns] = sc.fit_transform(df[df.columns])\n",
    "df = pd.concat([df, temp], axis=1)"
   ]
  },
  {
   "cell_type": "markdown",
   "metadata": {},
   "source": [
    "## Data Visualization"
   ]
  },
  {
   "cell_type": "code",
   "execution_count": 80,
   "metadata": {},
   "outputs": [
    {
     "data": {
      "image/png": "[encoded data removed]",
      "text/plain": [
       "<matplotlib.figure.Figure at 0x1114f4b38>"
      ]
     },
     "metadata": {},
     "output_type": "display_data"
    }
   ],
   "source": [
    "colors = ['r', 'b']\n",
    "markers = ['s', 'x']\n",
    "\n",
    "for l, c, m in zip(np.unique(df[\"EYE\"]), colors, markers): \n",
    "    plt.scatter(df[\"AF3\"][df[\"EYE\"]==l],\n",
    "                df[\"O2\"][df[\"EYE\"]==l],\n",
    "                c=c, label=l, marker=m)\n",
    "plt.xlabel('AF3')\n",
    "plt.ylabel('F7')\n",
    "plt.legend()\n",
    "plt.show()"
   ]
  },
  {
   "cell_type": "markdown",
   "metadata": {},
   "source": [
    "## Machine Learning"
   ]
  },
  {
   "cell_type": "markdown",
   "metadata": {
    "collapsed": true
   },
   "source": [
    "from sklearn.neural_network import MLPClassifier\n",
    "from sklearn.neighbors import KNeighborsClassifier\n",
    "from sklearn.svm import SVC\n",
    "from sklearn.gaussian_process import GaussianProcessClassifier\n",
    "from sklearn.gaussian_process.kernels import RBF\n",
    "from sklearn.tree import DecisionTreeClassifier\n",
    "from sklearn.ensemble import RandomForestClassifier, AdaBoostClassifier\n",
    "from sklearn.naive_bayes import GaussianNB\n",
    "from sklearn.discriminant_analysis import QuadraticDiscriminantAnalysis\n",
    "\n",
    "names = [\"Nearest Neighbors\", \"Linear SVM\", \"RBF SVM\", #\"Gaussian Process\",\n",
    "         \"Decision Tree\", \"Random Forest\", \"Neural Net\", \"AdaBoost\",\n",
    "         \"Naive Bayes\", \"QDA\"]\n",
    "\n",
    "classifiers = [\n",
    "    KNeighborsClassifier(3),\n",
    "    SVC(kernel=\"linear\", C=0.025),\n",
    "    SVC(gamma=2, C=1),\n",
    "    #GaussianrocessClassifier(1.0 * RBF(1.0), warm_start=True),\n",
    "    DecisionTreeClassifier(max_depth=5),\n",
    "    RandomForestClassifier(max_depth=5, n_estimators=10, max_features=1),\n",
    "    MLPClassifier(alpha=1),\n",
    "    AdaBoostClassifier(),\n",
    "    GaussianNB(),\n",
    "    QuadraticDiscriminantAnalysis()]\n",
    "\n",
    "# X is the df without the column 'EYE'\n",
    "y = df['EYE']\n",
    "del df['EYE']\n",
    "X = df\n",
    "X_train, X_test, y_train, y_test = train_test_split(X, y, test_size=0.3)\n",
    "\n",
    "# Standardize X and y\n",
    "sc = StandardScaler()\n",
    "sc.fit(X_train)\n",
    "X_train_std = sc.transform(X_train)\n",
    "X_test_std = sc.transform(X_test)\n",
    "\n",
    "X_combined_std = np.vstack((X_test_std, X_train_std))\n",
    "y_combined_std = np.hstack((y_test, y_train))\n",
    "\n",
    "for name, clf in zip(names, classifiers):\n",
    "    clf.fit(X_train_std, y_train)\n",
    "\n",
    "    y_pred = clf.predict(X_train_std)\n",
    "    print(name)\n",
    "    print('Training accuracy: %.2f' % accuracy_score(y_train, y_pred))\n",
    "    \n",
    "    y_pred = clf.predict(X_test_std)\n",
    "    print('Test accuracy: %.2f' % accuracy_score(y_test, y_pred))\n"
   ]
  },
  {
   "cell_type": "code",
   "execution_count": 81,
   "metadata": {
    "collapsed": true
   },
   "outputs": [],
   "source": [
    "y = df['EYE']\n",
    "del df['EYE']\n",
    "X = df\n",
    "X = X.as_matrix()\n",
    "y = y.as_matrix()\n",
    "\n",
    "X_train, X_test, y_train, y_test = train_test_split(X, y, test_size=0.3)"
   ]
  },
  {
   "cell_type": "code",
   "execution_count": 82,
   "metadata": {},
   "outputs": [
    {
     "data": {
      "text/plain": [
       "(10486,)"
      ]
     },
     "execution_count": 82,
     "metadata": {},
     "output_type": "execute_result"
    }
   ],
   "source": [
    "y_train.shape"
   ]
  },
  {
   "cell_type": "code",
   "execution_count": 83,
   "metadata": {},
   "outputs": [
    {
     "data": {
      "text/plain": [
       "(10486, 14)"
      ]
     },
     "execution_count": 83,
     "metadata": {},
     "output_type": "execute_result"
    }
   ],
   "source": [
    "X_train.shape"
   ]
  },
  {
   "cell_type": "code",
   "execution_count": 84,
   "metadata": {},
   "outputs": [],
   "source": [
    "from keras.utils.np_utils import to_categorical\n",
    "y_train_ohe = to_categorical(y_train)\n"
   ]
  },
  {
   "cell_type": "code",
   "execution_count": 85,
   "metadata": {},
   "outputs": [
    {
     "data": {
      "text/plain": [
       "array([[ 1.,  0.],\n",
       "       [ 1.,  0.],\n",
       "       [ 0.,  1.],\n",
       "       ..., \n",
       "       [ 1.,  0.],\n",
       "       [ 0.,  1.],\n",
       "       [ 0.,  1.]])"
      ]
     },
     "execution_count": 85,
     "metadata": {},
     "output_type": "execute_result"
    }
   ],
   "source": [
    "y_train_ohe"
   ]
  },
  {
   "cell_type": "markdown",
   "metadata": {},
   "source": [
    "## Training Neural Networks with Keras"
   ]
  },
  {
   "cell_type": "code",
   "execution_count": 94,
   "metadata": {},
   "outputs": [],
   "source": [
    "from keras.models import Sequential\n",
    "from keras.layers.core import Dense\n",
    "from keras.optimizers import SGD\n",
    "\n",
    "model = Sequential()\n",
    "model.add(Dense(input_dim=X_train.shape[1],\n",
    "                units=100,\n",
    "                kernel_initializer='uniform',\n",
    "               activation='tanh'))\n",
    "model.add(Dense(input_dim=100,\n",
    "                units=100,\n",
    "                kernel_initializer='uniform',\n",
    "               activation='tanh'))\n",
    "model.add(Dense(input_dim=100,\n",
    "                units=50,\n",
    "                kernel_initializer='uniform',\n",
    "               activation='tanh'))\n",
    "model.add(Dense(input_dim=50,\n",
    "                units=y_train_ohe.shape[1],\n",
    "                kernel_initializer='uniform',\n",
    "               activation='softmax'))\n",
    "sgd = SGD(lr=0.001, decay=1e-7, momentum=0.9)\n",
    "model.compile(loss='categorical_crossentropy', optimizer=sgd)"
   ]
  },
  {
   "cell_type": "code",
   "execution_count": 95,
   "metadata": {},
   "outputs": [
    {
     "name": "stdout",
     "output_type": "stream",
     "text": [
      "Train on 9437 samples, validate on 1049 samples\n",
      "Epoch 1/50\n",
      "0s - loss: 0.6926 - val_loss: 0.6918\n",
      "Epoch 2/50\n",
      "0s - loss: 0.6911 - val_loss: 0.6905\n",
      "Epoch 3/50\n",
      "0s - loss: 0.6900 - val_loss: 0.6895\n",
      "Epoch 4/50\n",
      "0s - loss: 0.6892 - val_loss: 0.6888\n",
      "Epoch 5/50\n",
      "0s - loss: 0.6886 - val_loss: 0.6883\n",
      "Epoch 6/50\n",
      "0s - loss: 0.6882 - val_loss: 0.6879\n",
      "Epoch 7/50\n",
      "0s - loss: 0.6879 - val_loss: 0.6876\n",
      "Epoch 8/50\n",
      "0s - loss: 0.6877 - val_loss: 0.6874\n",
      "Epoch 9/50\n",
      "0s - loss: 0.6875 - val_loss: 0.6873\n",
      "Epoch 10/50\n",
      "0s - loss: 0.6874 - val_loss: 0.6872\n",
      "Epoch 11/50\n",
      "0s - loss: 0.6873 - val_loss: 0.6871\n",
      "Epoch 12/50\n",
      "0s - loss: 0.6872 - val_loss: 0.6871\n",
      "Epoch 13/50\n",
      "0s - loss: 0.6872 - val_loss: 0.6870\n",
      "Epoch 14/50\n",
      "0s - loss: 0.6871 - val_loss: 0.6870\n",
      "Epoch 15/50\n",
      "0s - loss: 0.6871 - val_loss: 0.6869\n",
      "Epoch 16/50\n",
      "0s - loss: 0.6871 - val_loss: 0.6869\n",
      "Epoch 17/50\n",
      "0s - loss: 0.6870 - val_loss: 0.6869\n",
      "Epoch 18/50\n",
      "0s - loss: 0.6870 - val_loss: 0.6868\n",
      "Epoch 19/50\n",
      "0s - loss: 0.6870 - val_loss: 0.6868\n",
      "Epoch 20/50\n",
      "0s - loss: 0.6870 - val_loss: 0.6868\n",
      "Epoch 21/50\n",
      "0s - loss: 0.6869 - val_loss: 0.6868\n",
      "Epoch 22/50\n",
      "0s - loss: 0.6869 - val_loss: 0.6868\n",
      "Epoch 23/50\n",
      "0s - loss: 0.6869 - val_loss: 0.6867\n",
      "Epoch 24/50\n",
      "0s - loss: 0.6869 - val_loss: 0.6867\n",
      "Epoch 25/50\n",
      "0s - loss: 0.6868 - val_loss: 0.6867\n",
      "Epoch 26/50\n",
      "0s - loss: 0.6868 - val_loss: 0.6867\n",
      "Epoch 27/50\n",
      "0s - loss: 0.6868 - val_loss: 0.6867\n",
      "Epoch 28/50\n",
      "0s - loss: 0.6868 - val_loss: 0.6866\n",
      "Epoch 29/50\n",
      "0s - loss: 0.6867 - val_loss: 0.6866\n",
      "Epoch 30/50\n",
      "0s - loss: 0.6867 - val_loss: 0.6866\n",
      "Epoch 31/50\n",
      "0s - loss: 0.6867 - val_loss: 0.6866\n",
      "Epoch 32/50\n",
      "0s - loss: 0.6866 - val_loss: 0.6865\n",
      "Epoch 33/50\n",
      "0s - loss: 0.6866 - val_loss: 0.6865\n",
      "Epoch 34/50\n",
      "0s - loss: 0.6866 - val_loss: 0.6865\n",
      "Epoch 35/50\n",
      "0s - loss: 0.6865 - val_loss: 0.6865\n",
      "Epoch 36/50\n",
      "0s - loss: 0.6865 - val_loss: 0.6864\n",
      "Epoch 37/50\n",
      "0s - loss: 0.6865 - val_loss: 0.6864\n",
      "Epoch 38/50\n",
      "0s - loss: 0.6864 - val_loss: 0.6864\n",
      "Epoch 39/50\n",
      "0s - loss: 0.6864 - val_loss: 0.6864\n",
      "Epoch 40/50\n",
      "0s - loss: 0.6864 - val_loss: 0.6863\n",
      "Epoch 41/50\n",
      "0s - loss: 0.6863 - val_loss: 0.6863\n",
      "Epoch 42/50\n",
      "0s - loss: 0.6863 - val_loss: 0.6863\n",
      "Epoch 43/50\n",
      "0s - loss: 0.6863 - val_loss: 0.6862\n",
      "Epoch 44/50\n",
      "0s - loss: 0.6862 - val_loss: 0.6862\n",
      "Epoch 45/50\n",
      "0s - loss: 0.6861 - val_loss: 0.6862\n",
      "Epoch 46/50\n",
      "0s - loss: 0.6861 - val_loss: 0.6861\n",
      "Epoch 47/50\n",
      "0s - loss: 0.6861 - val_loss: 0.6861\n",
      "Epoch 48/50\n",
      "0s - loss: 0.6860 - val_loss: 0.6861\n",
      "Epoch 49/50\n",
      "0s - loss: 0.6859 - val_loss: 0.6860\n",
      "Epoch 50/50\n",
      "0s - loss: 0.6859 - val_loss: 0.6860\n"
     ]
    },
    {
     "data": {
      "text/plain": [
       "<keras.callbacks.History at 0x122126048>"
      ]
     },
     "execution_count": 95,
     "metadata": {},
     "output_type": "execute_result"
    }
   ],
   "source": [
    "model.fit(X_train, \n",
    "          y_train_ohe, \n",
    "          epochs=50,\n",
    "          batch_size=300,\n",
    "          verbose=2,\n",
    "          validation_split=0.1)"
   ]
  },
  {
   "cell_type": "code",
   "execution_count": 96,
   "metadata": {},
   "outputs": [
    {
     "data": {
      "text/plain": [
       "0.55378600038146097"
      ]
     },
     "execution_count": 96,
     "metadata": {},
     "output_type": "execute_result"
    }
   ],
   "source": [
    "y_train_pred = model.predict_classes(X_train, verbose=0)\n",
    "train_acc = np.sum(y_train == y_train_pred, axis=0) / X_train.shape[0]\n",
    "train_acc"
   ]
  },
  {
   "cell_type": "code",
   "execution_count": 97,
   "metadata": {},
   "outputs": [
    {
     "data": {
      "text/plain": [
       "0.54517133956386288"
      ]
     },
     "execution_count": 97,
     "metadata": {},
     "output_type": "execute_result"
    }
   ],
   "source": [
    "y_test_pred = model.predict_classes(X_test, verbose=0)\n",
    "train_acc = np.sum(y_test == y_test_pred, axis=0) / X_test.shape[0]\n",
    "train_acc"
   ]
  },
  {
   "cell_type": "code",
   "execution_count": null,
   "metadata": {
    "collapsed": true
   },
   "outputs": [],
   "source": []
  }
 ],
 "metadata": {
  "kernelspec": {
   "display_name": "Python 3",
   "language": "python",
   "name": "python3"
  },
  "language_info": {
   "codemirror_mode": {
    "name": "ipython",
    "version": 3
   },
   "file_extension": ".py",
   "mimetype": "text/x-python",
   "name": "python",
   "nbconvert_exporter": "python",
   "pygments_lexer": "ipython3",
   "version": "3.6.1"
  }
 },
 "nbformat": 4,
 "nbformat_minor": 2
}
